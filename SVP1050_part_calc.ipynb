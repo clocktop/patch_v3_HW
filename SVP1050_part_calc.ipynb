{
 "metadata": {
  "language_info": {
   "codemirror_mode": {
    "name": "ipython",
    "version": 3
   },
   "file_extension": ".py",
   "mimetype": "text/x-python",
   "name": "python",
   "nbconvert_exporter": "python",
   "pygments_lexer": "ipython3",
   "version": "3.7.4"
  },
  "orig_nbformat": 4,
  "kernelspec": {
   "name": "python3",
   "display_name": "Python 3.7.4 64-bit ('base': conda)"
  },
  "interpreter": {
   "hash": "569456b22b343f6437c8446d446b7196888b759c0b8e9038bc283443e233492d"
  }
 },
 "nbformat": 4,
 "nbformat_minor": 2,
 "cells": [
  {
   "cell_type": "markdown",
   "source": [
    "# ST SPV1050 Part Selection"
   ],
   "metadata": {}
  },
  {
   "cell_type": "markdown",
   "source": [
    "## MPPT Setting \n",
    "Will set R1, R2, and R3 with the MPPT from the [solar cell](https://waf-e.dubudisk.com/anysolar.dubuplus.com/techsupport@anysolar.biz/O18Ae0B/DubuDisk/www/Gen3/SM141K04LV%20DATA%20SHEET%20202007.pdf)\n",
    "\n",
    "### Specs \n",
    "* VMpp 2.23V\n",
    "* Voc 2.76V\n",
    "* Vuvp (undervoltage protection threshold) 3.5V\n",
    "* Vmpp ratio = 0.85\n",
    "* Imp -= 55mA\n",
    "\n",
    "### Equations\n",
    "\n",
    "$$ V_{uvp} \\geq V_{oc}\\frac{R2+R3}{R1+R2+R3} $$ \n",
    "\n",
    "$$ V_{mpp ratio} = \\frac{R3}{R1+R2+R3} $$\n",
    "\n",
    "$$ 10\\,M\\Omega \\leq R1+R2+R3 \\leq 20\\,M\\Omega $$\n",
    "\n",
    "\n",
    "### Solution\n",
    "Since our solar cell will operate above the battery voltage we can set $R1 = 0\\Omega$ and can solve the equations for R3 and then R2\n",
    "Then we get \n",
    "* R3 = 8.5\n",
    "* R2 = 1.5\n",
    "\n"
   ],
   "metadata": {}
  },
  {
   "cell_type": "code",
   "execution_count": 18,
   "source": [
    "vup = 3.5\r\n",
    "voc = 6.91\r\n",
    "vmpp = 5.58\r\n",
    "r1  = 10\r\n",
    "vup_min = 2.2\r\n",
    "veoc = 4.2\r\n",
    "\r\n",
    "#e5 in data sheet\r\n",
    "e5_sum = 15 * (vup_min/voc)\r\n",
    "e6_sum = 15 * 51 * vmpp / veoc\r\n",
    "\r\n",
    "print(e5_sum)\r\n",
    "print(e6_sum)\r\n",
    "\r\n",
    "mpp_ratio = vmpp/voc\r\n",
    "\r\n",
    "r3 = mpp_ratio * (min([e5_sum, e6_sum])) \r\n",
    "\r\n",
    "r2 = min([e5_sum, e6_sum]) - r3\r\n",
    "\r\n",
    "print(r2)\r\n",
    "print(r3)\r\n",
    "\r\n",
    "# these are e96 values closest to the calculated ones\r\n",
    "r3a = 3.83\r\n",
    "r2a = .909\r\n",
    "\r\n",
    "mpp_ratio_a = r3a/(r3a + r2a)\r\n",
    "\r\n",
    "print(mpp_ratio)\r\n",
    "print(mpp_ratio_a)\r\n",
    "\r\n",
    "(r3a+r2a) < ((r1+r2a+r3a)*vup_min/voc)"
   ],
   "outputs": [
    {
     "output_type": "stream",
     "name": "stdout",
     "text": [
      "4.7756874095513755\n",
      "1016.3571428571428\n",
      "0.9191988791177033\n",
      "3.8564885304336722\n",
      "0.8075253256150506\n",
      "0.8081873813040726\n",
      "14.739\n"
     ]
    }
   ],
   "metadata": {}
  },
  {
   "cell_type": "markdown",
   "source": [
    "## Input Capacitance\n",
    "\n",
    "Ever 16 seconds the SVP1050 samples the open circuit voltage for 400ms. In this time, the input cap C1 is charged to VOC. This can be modeled with an equvilant resistance \n",
    "\n",
    "\n",
    "$$ R_{eq} = \\frac{V_{oc}-V_{mpp}}{I_{mpp}} $$ \n",
    "\n",
    "and thus \n",
    "\n",
    "$$ C_1 \\leq \\frac{400\\,{ms}}{R_{eq}} $$\n",
    "\n",
    "So if C1 is too small we will over charge C1 for the current provided but if it is too small then we will undercharge and be of the mpp "
   ],
   "metadata": {}
  },
  {
   "cell_type": "code",
   "execution_count": 28,
   "source": [
    "import matplotlib as plt\r\n",
    "\r\n",
    "imp = 0.0001\r\n",
    "t1 = 0.4\r\n",
    "\r\n",
    "req = (voc - vmpp)/imp \r\n",
    "\r\n",
    "c1_max = t1/req\r\n",
    "print(c1_max)"
   ],
   "outputs": [
    {
     "output_type": "stream",
     "name": "stdout",
     "text": [
      "7.547169811320758e-05\n"
     ]
    }
   ],
   "metadata": {}
  },
  {
   "cell_type": "markdown",
   "source": [
    "## Under Voltage and End of Charge Setting\n",
    "\n",
    "Under voltage is the battery cuttoff voltage data sheet for battery has it as 3.0V we will set it to 3.1V to be safe\n",
    "\n",
    "End of Charge is the maxium charge voltage for the battery and itll be set to 4.2V according to the battery data sheet\n",
    "\n",
    "Vbg is the band-gap reference voltage and it is used to set eh uvp and eco and is 1.23V\n",
    "\n",
    "$$ V_{bg} = V_{uvp}\\frac{R5+R6}{R4+R5+R6} $$\n",
    "$$ V_{bg} = V_{eoc}\\frac{R6}{R4+R5+R6} $$\n",
    "\n",
    "For low loss \n",
    "$$ 10\\,M\\Omega \\leq R4+R5+R6 \\leq 20\\,M\\Omega $$\n",
    "\n",
    "\n",
    "* r4 = 6M\n",
    "* r5 = 1M\n",
    "* r6 = 3M"
   ],
   "metadata": {}
  },
  {
   "cell_type": "code",
   "execution_count": 29,
   "source": [
    "v_uvp_ratio = 1.23/3.1\r\n",
    "\r\n",
    "v_eoc_ratio = 1.23/4.2"
   ],
   "outputs": [],
   "metadata": {}
  },
  {
   "cell_type": "code",
   "execution_count": 32,
   "source": [
    "R5_rat  = v_uvp_ratio - v_eoc_ratio"
   ],
   "outputs": [],
   "metadata": {}
  },
  {
   "cell_type": "code",
   "execution_count": 33,
   "source": [
    "R5_rat"
   ],
   "outputs": [
    {
     "output_type": "execute_result",
     "data": {
      "text/plain": [
       "0.10391705069124424"
      ]
     },
     "metadata": {},
     "execution_count": 33
    }
   ],
   "metadata": {}
  },
  {
   "cell_type": "code",
   "execution_count": 40,
   "source": [
    "rt= 10\r\n",
    "r6 = v_eoc_ratio*rt\r\n",
    "r5 = R5_rat*rt\r\n",
    "r4 = rt-r6-r5\r\n",
    "\r\n",
    "print(r4)\r\n",
    "print(r5)\r\n",
    "print(r6)"
   ],
   "outputs": [
    {
     "output_type": "stream",
     "name": "stdout",
     "text": [
      "6.03225806451613\n",
      "1.0391705069124424\n",
      "2.928571428571428\n"
     ]
    }
   ],
   "metadata": {}
  },
  {
   "cell_type": "code",
   "execution_count": 43,
   "source": [
    "# tget actual values with rounding \n",
    "r6a = 3\n",
    "r5a = 1\n",
    "r4a = 6\n",
    "\n",
    "vuvpa = 1.23/((r5a+r6a)/rt)\n",
    "veoca = 1.23/(r6a/rt)\n",
    "print(vuvpa)\n",
    "print(veoca)"
   ],
   "outputs": [
    {
     "output_type": "stream",
     "name": "stdout",
     "text": [
      "3.0749999999999997\n",
      "4.1000000000000005\n"
     ]
    }
   ],
   "metadata": {}
  },
  {
   "cell_type": "code",
   "execution_count": null,
   "source": [],
   "outputs": [],
   "metadata": {}
  }
 ]
}