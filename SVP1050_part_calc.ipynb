{
 "metadata": {
  "language_info": {
   "codemirror_mode": {
    "name": "ipython",
    "version": 3
   },
   "file_extension": ".py",
   "mimetype": "text/x-python",
   "name": "python",
   "nbconvert_exporter": "python",
   "pygments_lexer": "ipython3",
   "version": "3.7.6"
  },
  "orig_nbformat": 4,
  "kernelspec": {
   "name": "python3",
   "display_name": "Python 3.7.6 64-bit ('base': conda)"
  },
  "interpreter": {
   "hash": "8d6abd019b9366aa2ce6813c9e5674563d364fcb420a4b3bb39f2eda5e49ae2e"
  }
 },
 "nbformat": 4,
 "nbformat_minor": 2,
 "cells": [
  {
   "source": [
    "# ST SPV1050 Part Selection"
   ],
   "cell_type": "markdown",
   "metadata": {}
  },
  {
   "source": [
    "## MPPT Setting \n",
    "Will set R1, R2, and R3 with the MPPT from the [solar cell](https://waf-e.dubudisk.com/anysolar.dubuplus.com/techsupport@anysolar.biz/O18Ae0B/DubuDisk/www/Gen3/SM141K04LV%20DATA%20SHEET%20202007.pdf)\n",
    "\n",
    "### Specs \n",
    "* VMpp 2.23V\n",
    "* Voc 2.76V\n",
    "* Vuvp (undervoltage protection threshold) 3.5V\n",
    "* Vmpp ratio = 0.85\n",
    "* Imp -= 55mA\n",
    "\n",
    "### Equations\n",
    "\n",
    "$$ V_{uvp} \\geq V_{oc}\\frac{R2+R3}{R1+R2+R3} $$ \n",
    "\n",
    "$$ V_{mpp ratio} = \\frac{R3}{R1+R2+R3} $$\n",
    "\n",
    "$$ 10\\,M\\Omega \\leq R1+R2+R3 \\leq 20\\,M\\Omega $$\n",
    "\n",
    "\n",
    "### Solution\n",
    "Since our solar cell will operate above the battery voltage we can set $R1 = 0\\Omega$ and can solve the equations for R3 and then R2\n",
    "Then we get \n",
    "* R3 = 8.5\n",
    "* R2 = 1.5\n",
    "\n"
   ],
   "cell_type": "markdown",
   "metadata": {}
  },
  {
   "cell_type": "code",
   "execution_count": 18,
   "metadata": {},
   "outputs": [
    {
     "output_type": "stream",
     "name": "stdout",
     "text": [
      "8.5\n1.5\n"
     ]
    }
   ],
   "source": [
    "vup = 3.5\n",
    "voc = 2.76\n",
    "vmpp = 2.23\n",
    "\n",
    "rsum = 10 # set this for Mohm total for the branch should be between 10 to 20 \n",
    "r3 = 0.85*rsum\n",
    "r2 = rsum - r3\n",
    "\n",
    "print(r3)\n",
    "print(r2)"
   ]
  },
  {
   "source": [
    "## Input Capacitance\n",
    "\n",
    "Ever 16 seconds the SVP1050 samples the open circuit voltage for 400ms. In this time, the input cap C1 is charged to VOC. This can be modeled with an equvilant resistance \n",
    "\n",
    "\n",
    "$$ R_{eq} = \\frac{V_{oc}-V_{mpp}}{I_{mpp}} $$ \n",
    "\n",
    "and thus \n",
    "\n",
    "$$ C_1 \\leq \\frac{400\\,{ms}}{R_{eq}} $$\n",
    "\n",
    "So if C1 is too small we will over charge C1 for the current provided but if it is too small then we will undercharge and be of the mpp "
   ],
   "cell_type": "markdown",
   "metadata": {}
  },
  {
   "cell_type": "code",
   "execution_count": 28,
   "metadata": {},
   "outputs": [
    {
     "output_type": "stream",
     "name": "stdout",
     "text": [
      "7.547169811320758e-05\n"
     ]
    }
   ],
   "source": [
    "import matplotlib as plt\n",
    "\n",
    "imp = 0.0001\n",
    "t1 = 0.4\n",
    "\n",
    "req = (voc - vmpp)/imp \n",
    "\n",
    "c1_max = t1/req\n",
    "print(c1_max)"
   ]
  },
  {
   "source": [
    "## Under Voltage and End of Charge Setting\n",
    "\n",
    "Under voltage is the battery cuttoff voltage data sheet for battery has it as 3.0V we will set it to 3.1V to be safe\n",
    "\n",
    "End of Charge is the maxium charge voltage for the battery and itll be set to 4.2V according to the battery data sheet\n",
    "\n",
    "Vbg is the band-gap reference voltage and it is used to set eh uvp and eco and is 1.23V\n",
    "\n",
    "$$ V_{bg} = V_{uvp}\\frac{R5+R6}{R4+R5+R6} $$\n",
    "$$ V_{bg} = V_{eoc}\\frac{R6}{R4+R5+R6} $$\n",
    "\n",
    "For low loss \n",
    "$$ 10\\,M\\Omega \\leq R4+R5+R6 \\leq 20\\,M\\Omega $$\n",
    "\n",
    "\n",
    "* r4 = 6M\n",
    "* r5 = 1M\n",
    "* r6 = 3M"
   ],
   "cell_type": "markdown",
   "metadata": {}
  },
  {
   "cell_type": "code",
   "execution_count": 29,
   "metadata": {},
   "outputs": [],
   "source": [
    "v_uvp_ratio = 1.23/3.1\n",
    "\n",
    "v_eoc_ratio = 1.23/4.2"
   ]
  },
  {
   "cell_type": "code",
   "execution_count": 32,
   "metadata": {},
   "outputs": [],
   "source": [
    "R5_rat  = v_uvp_ratio - v_eoc_ratio"
   ]
  },
  {
   "source": [
    "R5_rat"
   ],
   "cell_type": "code",
   "metadata": {},
   "execution_count": 33,
   "outputs": [
    {
     "output_type": "execute_result",
     "data": {
      "text/plain": [
       "0.10391705069124424"
      ]
     },
     "metadata": {},
     "execution_count": 33
    }
   ]
  },
  {
   "cell_type": "code",
   "execution_count": 40,
   "metadata": {},
   "outputs": [
    {
     "output_type": "stream",
     "name": "stdout",
     "text": [
      "6.03225806451613\n1.0391705069124424\n2.928571428571428\n"
     ]
    }
   ],
   "source": [
    "rt= 10\n",
    "r6 = v_eoc_ratio*rt\n",
    "r5 = R5_rat*rt\n",
    "r4 = rt-r6-r5\n",
    "\n",
    "print(r4)\n",
    "print(r5)\n",
    "print(r6)"
   ]
  },
  {
   "cell_type": "code",
   "execution_count": 43,
   "metadata": {},
   "outputs": [
    {
     "output_type": "stream",
     "name": "stdout",
     "text": [
      "3.0749999999999997\n4.1000000000000005\n"
     ]
    }
   ],
   "source": [
    "# tget actual values with rounding \n",
    "r6a = 3\n",
    "r5a = 1\n",
    "r4a = 6\n",
    "\n",
    "vuvpa = 1.23/((r5a+r6a)/rt)\n",
    "veoca = 1.23/(r6a/rt)\n",
    "print(vuvpa)\n",
    "print(veoca)"
   ]
  },
  {
   "cell_type": "code",
   "execution_count": null,
   "metadata": {},
   "outputs": [],
   "source": []
  }
 ]
}